{
 "cells": [
  {
   "cell_type": "markdown",
   "metadata": {},
   "source": [
    "# Analisando e priorizando falhas de cobertura em Redes de Telefonia Móvel com Machine Learning"
   ]
  },
  {
   "cell_type": "markdown",
   "metadata": {},
   "source": [
    "Uma atividade de grande importância para as operadoras é analisar e priorizar regiões com falhas de cobertura. Para se ter uma idéia, na indústria de telefonia móvel, aproximadamente 10% das reclamações dos usuários estão relacionadas à qualidade, funcionamento e reparo(1).\n",
    "\n",
    "A análise das regiões com nível de sinal ruim costuma ser feita por um engenheiro de telecomunicações que, através de um mapa de cobertura, analisa visualmente pontos ou regiões com falha.\n",
    "\n",
    "Essa abordagem pode ser efetiva quando feita em um bairro ou numa pequena região, porém pode se tornar inviável quando feita em regiões maiores. O crescimento do tráfego de dados nas redes móveis, juntamente com a quantidade de elementos de diferentes tecnologias (2G/3G/4G), torna essa análise ainda mais complexa. O intuito desse artigo é oferecer, através de um protótipo, um método auxiliar à metodologia de inspeção visual.\n",
    "\n",
    "<img src=\"image/france_pred.jpg\" width=\"500\">Simulação de cobertura 4G em escala de país, França(2)"
   ]
  },
  {
   "cell_type": "markdown",
   "metadata": {},
   "source": [
    "### Primeiramente, o que é uma falha de cobertura?\n",
    "Mesmo quando não está sendo utilizado (modo idle), o móvel fica medindo o tempo todo o nível de sinal que ele recebe das estações radiobase (ERB). Podemos ver uma representação gráfica dessa medida através das barrinhas do celular. \n",
    "<img src=\"image/level.jpg\">\n",
    "\n",
    "O que na realidade o móvel está medindo é a potência recebida. Existem vários fatores que podem afetar a qualidade do serviço, mas olhando apenas a variável nivel de sinal, podemos dizer que quanto menor a potência recebida, pior o serviço. Temos abaixo, uma tabela de exemplo, relacionando a potência à qualidade do sinal(3):\n",
    "<img src=\"image/signal_strength_umts.jpg\" width=\"400\"/>\n",
    "<p align=\"center\">\n",
    "RSSI - Received Signal Strength Indicator(4).\n",
    "</p>\n",
    "\n",
    "De uma maneira bem simplificada, um sinal ruim é um nível de sinal recebido pelo celular que não atende ou atende de maneira precária, aos requisitos mínimos de uma boa comunicação com a rede. Esse nível de sinal pobre resultará em uma experiência ruim pelo usuário.\n",
    "\n",
    "Portanto podemos dizer que **uma região com falha de cobertura é um lugar (cluster) que apresente intensidade de sinal pobre ou inexistente**. Veja no exemplo abaixo, retirado do site TIM Portas Abertas(5), alguns locais com falhas de cobertura, circulados em vermelho:\n",
    "<img src=\"image/coverage_fail1.1.png\">\n",
    "**Legenda:**  \n",
    "**Azul Escuro** - Cobertura Total  \n",
    "**Azul Claro** - Cobertura Parcial  \n",
    "**Branco** - Sem Cobertura"
   ]
  },
  {
   "cell_type": "markdown",
   "metadata": {},
   "source": [
    "Dado que os locais com falha possuem coordenadas de latitude e longitude, fica fácil agrupá-los utilizando um algoritmo de clusterização. Para isso utilizaremos o algoritmo DBSCAN do scikit-learn, que é uma biblioteca de aprendizado de máquina de código aberto para a linguagem de programação Python."
   ]
  },
  {
   "cell_type": "markdown",
   "metadata": {},
   "source": [
    "### DBSCAN  \n",
    "O DBSCAN é um **algoritmo de agrupamento baseado em densidade**: dado um conjunto de pontos em algum espaço, agrupa pontos que estão intimamente próximos (pontos com muitos vizinhos próximos) e marca como outliers pontos que estão sozinhos em regiões de baixa densidade (vizinhos que estão muito longe)(6).\n",
    "\n",
    "Esse algoritmo possui 2 principais parâmetros:\n",
    "* eps (epsilon) é a distância máxima entre dois pontos de dados a serem considerados na mesma vizinhança.  \n",
    "* min_samples é a quantidade mínima de pontos de dados em uma vizinhança para ser considerado um cluster.\n",
    "\n",
    "<img src=\"image/DBSCAN1.png\" width=\"300\"/>"
   ]
  },
  {
   "cell_type": "markdown",
   "metadata": {},
   "source": [
    "Aplicando esse algoritmo ao nosso problema, podemos portanto estipular a quantidade de amostras sem cobertura (min_samples) dentro de um raio definido (epsilon), de modo a agrupa-los em clusters (regiões) e outliers (spots)."
   ]
  },
  {
   "cell_type": "code",
   "execution_count": 1,
   "metadata": {},
   "outputs": [],
   "source": [
    "# Importando as bibliotecas necessárias\n",
    "import numpy as np\n",
    "import pandas as pd\n",
    "from sklearn.cluster import DBSCAN\n",
    "import matplotlib.pyplot as plt"
   ]
  },
  {
   "cell_type": "markdown",
   "metadata": {},
   "source": [
    "### Base de dados\n",
    "Para esse estudo criamos uma base de dados com informações de qualidade de cobertura com classificação binária, sendo: \n",
    "    * 1 para áreas cobertas; \n",
    "    * NaN (valores vazios) para áreas não cobertas.  \n",
    "As coordenadas serão representadas pelos tílulos das colunas e linhas. Essa base possui uma dimensão 134x372. Apenas como ilustração, se fosse um mapa real com resolução de 25x25m, cada unidade teria 625m2 e o mapa inteiro teria uma área de 31,2 km2 (um pouco maior que o estado de Alagoas)."
   ]
  },
  {
   "cell_type": "code",
   "execution_count": 2,
   "metadata": {},
   "outputs": [
    {
     "data": {
      "text/html": [
       "<div>\n",
       "<style scoped>\n",
       "    .dataframe tbody tr th:only-of-type {\n",
       "        vertical-align: middle;\n",
       "    }\n",
       "\n",
       "    .dataframe tbody tr th {\n",
       "        vertical-align: top;\n",
       "    }\n",
       "\n",
       "    .dataframe thead th {\n",
       "        text-align: right;\n",
       "    }\n",
       "</style>\n",
       "<table border=\"1\" class=\"dataframe\">\n",
       "  <thead>\n",
       "    <tr style=\"text-align: right;\">\n",
       "      <th></th>\n",
       "      <th>1</th>\n",
       "      <th>2</th>\n",
       "      <th>3</th>\n",
       "      <th>4</th>\n",
       "      <th>5</th>\n",
       "      <th>6</th>\n",
       "      <th>7</th>\n",
       "      <th>8</th>\n",
       "      <th>9</th>\n",
       "      <th>10</th>\n",
       "      <th>...</th>\n",
       "      <th>363</th>\n",
       "      <th>364</th>\n",
       "      <th>365</th>\n",
       "      <th>366</th>\n",
       "      <th>367</th>\n",
       "      <th>368</th>\n",
       "      <th>369</th>\n",
       "      <th>370</th>\n",
       "      <th>371</th>\n",
       "      <th>372</th>\n",
       "    </tr>\n",
       "  </thead>\n",
       "  <tbody>\n",
       "    <tr>\n",
       "      <th>1</th>\n",
       "      <td>NaN</td>\n",
       "      <td>NaN</td>\n",
       "      <td>NaN</td>\n",
       "      <td>1</td>\n",
       "      <td>1</td>\n",
       "      <td>1</td>\n",
       "      <td>1</td>\n",
       "      <td>1</td>\n",
       "      <td>1</td>\n",
       "      <td>1</td>\n",
       "      <td>...</td>\n",
       "      <td>1</td>\n",
       "      <td>1</td>\n",
       "      <td>1</td>\n",
       "      <td>1</td>\n",
       "      <td>1</td>\n",
       "      <td>1</td>\n",
       "      <td>1</td>\n",
       "      <td>1</td>\n",
       "      <td>1</td>\n",
       "      <td>1</td>\n",
       "    </tr>\n",
       "    <tr>\n",
       "      <th>2</th>\n",
       "      <td>NaN</td>\n",
       "      <td>NaN</td>\n",
       "      <td>NaN</td>\n",
       "      <td>1</td>\n",
       "      <td>1</td>\n",
       "      <td>1</td>\n",
       "      <td>1</td>\n",
       "      <td>1</td>\n",
       "      <td>1</td>\n",
       "      <td>1</td>\n",
       "      <td>...</td>\n",
       "      <td>1</td>\n",
       "      <td>1</td>\n",
       "      <td>1</td>\n",
       "      <td>1</td>\n",
       "      <td>1</td>\n",
       "      <td>1</td>\n",
       "      <td>1</td>\n",
       "      <td>1</td>\n",
       "      <td>1</td>\n",
       "      <td>1</td>\n",
       "    </tr>\n",
       "    <tr>\n",
       "      <th>3</th>\n",
       "      <td>1.0</td>\n",
       "      <td>1.0</td>\n",
       "      <td>1.0</td>\n",
       "      <td>1</td>\n",
       "      <td>1</td>\n",
       "      <td>1</td>\n",
       "      <td>1</td>\n",
       "      <td>1</td>\n",
       "      <td>1</td>\n",
       "      <td>1</td>\n",
       "      <td>...</td>\n",
       "      <td>1</td>\n",
       "      <td>1</td>\n",
       "      <td>1</td>\n",
       "      <td>1</td>\n",
       "      <td>1</td>\n",
       "      <td>1</td>\n",
       "      <td>1</td>\n",
       "      <td>1</td>\n",
       "      <td>1</td>\n",
       "      <td>1</td>\n",
       "    </tr>\n",
       "    <tr>\n",
       "      <th>4</th>\n",
       "      <td>1.0</td>\n",
       "      <td>1.0</td>\n",
       "      <td>1.0</td>\n",
       "      <td>1</td>\n",
       "      <td>1</td>\n",
       "      <td>1</td>\n",
       "      <td>1</td>\n",
       "      <td>1</td>\n",
       "      <td>1</td>\n",
       "      <td>1</td>\n",
       "      <td>...</td>\n",
       "      <td>1</td>\n",
       "      <td>1</td>\n",
       "      <td>1</td>\n",
       "      <td>1</td>\n",
       "      <td>1</td>\n",
       "      <td>1</td>\n",
       "      <td>1</td>\n",
       "      <td>1</td>\n",
       "      <td>1</td>\n",
       "      <td>1</td>\n",
       "    </tr>\n",
       "    <tr>\n",
       "      <th>5</th>\n",
       "      <td>1.0</td>\n",
       "      <td>1.0</td>\n",
       "      <td>1.0</td>\n",
       "      <td>1</td>\n",
       "      <td>1</td>\n",
       "      <td>1</td>\n",
       "      <td>1</td>\n",
       "      <td>1</td>\n",
       "      <td>1</td>\n",
       "      <td>1</td>\n",
       "      <td>...</td>\n",
       "      <td>1</td>\n",
       "      <td>1</td>\n",
       "      <td>1</td>\n",
       "      <td>1</td>\n",
       "      <td>1</td>\n",
       "      <td>1</td>\n",
       "      <td>1</td>\n",
       "      <td>1</td>\n",
       "      <td>1</td>\n",
       "      <td>1</td>\n",
       "    </tr>\n",
       "  </tbody>\n",
       "</table>\n",
       "<p>5 rows × 372 columns</p>\n",
       "</div>"
      ],
      "text/plain": [
       "   1    2    3    4    5    6    7    8    9    10  ...   363  364  365  366  \\\n",
       "1  NaN  NaN  NaN    1    1    1    1    1    1    1 ...     1    1    1    1   \n",
       "2  NaN  NaN  NaN    1    1    1    1    1    1    1 ...     1    1    1    1   \n",
       "3  1.0  1.0  1.0    1    1    1    1    1    1    1 ...     1    1    1    1   \n",
       "4  1.0  1.0  1.0    1    1    1    1    1    1    1 ...     1    1    1    1   \n",
       "5  1.0  1.0  1.0    1    1    1    1    1    1    1 ...     1    1    1    1   \n",
       "\n",
       "   367  368  369  370  371  372  \n",
       "1    1    1    1    1    1    1  \n",
       "2    1    1    1    1    1    1  \n",
       "3    1    1    1    1    1    1  \n",
       "4    1    1    1    1    1    1  \n",
       "5    1    1    1    1    1    1  \n",
       "\n",
       "[5 rows x 372 columns]"
      ]
     },
     "execution_count": 2,
     "metadata": {},
     "output_type": "execute_result"
    }
   ],
   "source": [
    "# Carregando a base de dados de predição\n",
    "predicao = pd.read_excel(\"base\\Pred_fict.xlsx\")\n",
    "predicao.head() # Olhando as 5 primeiras linhas da base"
   ]
  },
  {
   "cell_type": "markdown",
   "metadata": {},
   "source": [
    "Claro que essa é apenas uma base simplificada para estudo, porém ela poderia ter vindo de um software de predição, drive-test ou de amostras georreferenciadas coletadas da própia rede. As medições reais trazem vários níveis de qualidade de sinal, porém poderíamos ajustá-las definindo um limiar entre coberto/não coberto. Por exemplo, na tabela de RSSI apresentada anteriormente, poderíamos atribuir 1 para níveis ≥ -100dBm (excellent, good e fair) e NaN para < -100dBm (poor e no signal)."
   ]
  },
  {
   "cell_type": "markdown",
   "metadata": {},
   "source": [
    "### Plotando o mapa com as falhas de cobertura\n",
    "Vamos plotar então a nossa base em um mapa de cobertura. Os espaços azuis são as áreas com boa qualidade, enquanto que as áreas em branco são falhas de cobertura."
   ]
  },
  {
   "cell_type": "code",
   "execution_count": 3,
   "metadata": {},
   "outputs": [
    {
     "data": {
      "image/png": "[encoded data removed]",
      "text/plain": [
       "<Figure size 1440x1440 with 1 Axes>"
      ]
     },
     "metadata": {},
     "output_type": "display_data"
    }
   ],
   "source": [
    "plt.figure(figsize=(20, 20))\n",
    "plt.imshow(predicao, cmap=plt.cm.terrain)\n",
    "plt.title(\"Simulação de área com falhas de cobertura\", fontsize=20)\n",
    "plt.xlabel(\"Latitude\", fontsize=15)\n",
    "plt.ylabel(\"Longitude\", fontsize=15);"
   ]
  },
  {
   "cell_type": "markdown",
   "metadata": {},
   "source": [
    "### Adequando o dataset\n",
    "Para podermos trabalhar com o DBSCAN, necessitamos antes adequar o dataset ao padrão de entrada [x, y] exigido pelo algoritmo. No nosso caso serão os dados de latitude e longitude."
   ]
  },
  {
   "cell_type": "code",
   "execution_count": 4,
   "metadata": {},
   "outputs": [
    {
     "data": {
      "text/html": [
       "<div>\n",
       "<style scoped>\n",
       "    .dataframe tbody tr th:only-of-type {\n",
       "        vertical-align: middle;\n",
       "    }\n",
       "\n",
       "    .dataframe tbody tr th {\n",
       "        vertical-align: top;\n",
       "    }\n",
       "\n",
       "    .dataframe thead th {\n",
       "        text-align: right;\n",
       "    }\n",
       "</style>\n",
       "<table border=\"1\" class=\"dataframe\">\n",
       "  <thead>\n",
       "    <tr style=\"text-align: right;\">\n",
       "      <th></th>\n",
       "      <th>Latitude</th>\n",
       "      <th>Longitude</th>\n",
       "      <th>Cobertura</th>\n",
       "    </tr>\n",
       "  </thead>\n",
       "  <tbody>\n",
       "    <tr>\n",
       "      <th>0</th>\n",
       "      <td>1</td>\n",
       "      <td>1</td>\n",
       "      <td>NaN</td>\n",
       "    </tr>\n",
       "    <tr>\n",
       "      <th>1</th>\n",
       "      <td>1</td>\n",
       "      <td>2</td>\n",
       "      <td>NaN</td>\n",
       "    </tr>\n",
       "    <tr>\n",
       "      <th>2</th>\n",
       "      <td>1</td>\n",
       "      <td>3</td>\n",
       "      <td>NaN</td>\n",
       "    </tr>\n",
       "    <tr>\n",
       "      <th>3</th>\n",
       "      <td>1</td>\n",
       "      <td>4</td>\n",
       "      <td>1.0</td>\n",
       "    </tr>\n",
       "    <tr>\n",
       "      <th>4</th>\n",
       "      <td>1</td>\n",
       "      <td>5</td>\n",
       "      <td>1.0</td>\n",
       "    </tr>\n",
       "  </tbody>\n",
       "</table>\n",
       "</div>"
      ],
      "text/plain": [
       "   Latitude  Longitude  Cobertura\n",
       "0         1          1        NaN\n",
       "1         1          2        NaN\n",
       "2         1          3        NaN\n",
       "3         1          4        1.0\n",
       "4         1          5        1.0"
      ]
     },
     "execution_count": 4,
     "metadata": {},
     "output_type": "execute_result"
    }
   ],
   "source": [
    "# Transformando o dataset em colunas lat, long e valor\n",
    "temp = []\n",
    "baseCol = []\n",
    "\n",
    "# Transforma o dataset\n",
    "linha = predicao.index\n",
    "coluna = predicao.columns\n",
    "\n",
    "for l in linha:\n",
    "    for c in coluna:\n",
    "        temp = [l, c, predicao.at[l, c]]\n",
    "        baseCol.append(temp)\n",
    "\n",
    "baseCol1 = pd.DataFrame(baseCol, columns=['Latitude', 'Longitude', 'Cobertura'])\n",
    "\n",
    "baseCol1.head()   # Olhando as primeiras linhas"
   ]
  },
  {
   "cell_type": "markdown",
   "metadata": {},
   "source": [
    "Como queremos trabalhar somente com as falhas de cobertura, devemos filtrar somente os casos que apresentam o valor vazio (null)."
   ]
  },
  {
   "cell_type": "code",
   "execution_count": 5,
   "metadata": {},
   "outputs": [],
   "source": [
    "# Filtrando a base somente com o clutters com falha de cobertura\n",
    "baseCol2 = baseCol1[baseCol1.Cobertura != 1]"
   ]
  },
  {
   "cell_type": "markdown",
   "metadata": {},
   "source": [
    "### Implementando o algoritmo\n",
    "Vamos agora configurar os parâmetros do modelo e treiná-lo. Para o nosso exemplo, vamos definir que para ser considerado um cluster de falha de cobertura, necessitará ter ao menos 10 amostras com falha numa área total de 121 amostras (utilizando como distância 5). \n",
    "\n",
    "<img src=\"image/core_sample.png\" width=\"350\">"
   ]
  },
  {
   "cell_type": "code",
   "execution_count": 6,
   "metadata": {},
   "outputs": [],
   "source": [
    "# Instancia e configura os parâmetros do DBSCAN\n",
    "distancia = 5\n",
    "amostras = 10\n",
    "\n",
    "# Aplicando o modelo\n",
    "clustering = DBSCAN(eps=distancia, min_samples=amostras).fit(baseCol2.iloc[ : , 0:2])"
   ]
  },
  {
   "cell_type": "markdown",
   "metadata": {},
   "source": [
    "Após a classificação, o algoritmo gera o atributo ''labels_'' que nada mais é que a classificação dada a cada um dos cluster agrupados. \n",
    "Vamos anexar esse atributo ao dataset anterior para verificar como foi classificado cada um dos pontos.\n",
    "\n",
    "**Nota:** Caso queira verificar cada um dos atributos gerados pelo algoritmo, há um link da documentação na seção Fontes e referencias, ao final do texto(7)."
   ]
  },
  {
   "cell_type": "code",
   "execution_count": 7,
   "metadata": {},
   "outputs": [
    {
     "data": {
      "text/html": [
       "<div>\n",
       "<style scoped>\n",
       "    .dataframe tbody tr th:only-of-type {\n",
       "        vertical-align: middle;\n",
       "    }\n",
       "\n",
       "    .dataframe tbody tr th {\n",
       "        vertical-align: top;\n",
       "    }\n",
       "\n",
       "    .dataframe thead th {\n",
       "        text-align: right;\n",
       "    }\n",
       "</style>\n",
       "<table border=\"1\" class=\"dataframe\">\n",
       "  <thead>\n",
       "    <tr style=\"text-align: right;\">\n",
       "      <th></th>\n",
       "      <th>Latitude</th>\n",
       "      <th>Longitude</th>\n",
       "      <th>Cobertura</th>\n",
       "      <th>Cluster</th>\n",
       "    </tr>\n",
       "  </thead>\n",
       "  <tbody>\n",
       "    <tr>\n",
       "      <th>380</th>\n",
       "      <td>111</td>\n",
       "      <td>71</td>\n",
       "      <td>NaN</td>\n",
       "      <td>5</td>\n",
       "    </tr>\n",
       "    <tr>\n",
       "      <th>381</th>\n",
       "      <td>111</td>\n",
       "      <td>72</td>\n",
       "      <td>NaN</td>\n",
       "      <td>5</td>\n",
       "    </tr>\n",
       "    <tr>\n",
       "      <th>382</th>\n",
       "      <td>112</td>\n",
       "      <td>71</td>\n",
       "      <td>NaN</td>\n",
       "      <td>5</td>\n",
       "    </tr>\n",
       "    <tr>\n",
       "      <th>383</th>\n",
       "      <td>112</td>\n",
       "      <td>72</td>\n",
       "      <td>NaN</td>\n",
       "      <td>5</td>\n",
       "    </tr>\n",
       "    <tr>\n",
       "      <th>384</th>\n",
       "      <td>115</td>\n",
       "      <td>165</td>\n",
       "      <td>NaN</td>\n",
       "      <td>-1</td>\n",
       "    </tr>\n",
       "    <tr>\n",
       "      <th>385</th>\n",
       "      <td>115</td>\n",
       "      <td>166</td>\n",
       "      <td>NaN</td>\n",
       "      <td>-1</td>\n",
       "    </tr>\n",
       "    <tr>\n",
       "      <th>386</th>\n",
       "      <td>116</td>\n",
       "      <td>165</td>\n",
       "      <td>NaN</td>\n",
       "      <td>-1</td>\n",
       "    </tr>\n",
       "    <tr>\n",
       "      <th>387</th>\n",
       "      <td>116</td>\n",
       "      <td>166</td>\n",
       "      <td>NaN</td>\n",
       "      <td>-1</td>\n",
       "    </tr>\n",
       "  </tbody>\n",
       "</table>\n",
       "</div>"
      ],
      "text/plain": [
       "     Latitude  Longitude  Cobertura  Cluster\n",
       "380       111         71        NaN        5\n",
       "381       111         72        NaN        5\n",
       "382       112         71        NaN        5\n",
       "383       112         72        NaN        5\n",
       "384       115        165        NaN       -1\n",
       "385       115        166        NaN       -1\n",
       "386       116        165        NaN       -1\n",
       "387       116        166        NaN       -1"
      ]
     },
     "execution_count": 7,
     "metadata": {},
     "output_type": "execute_result"
    }
   ],
   "source": [
    "# Adicionando as classificações ao dataset\n",
    "clusters = pd.DataFrame(clustering.labels_)   # Instancia os grupos classificados\n",
    "\n",
    "baseCol3 = baseCol2.reset_index(drop=True)  # Reseta o indice\n",
    "baseCol3['Cluster'] = clusters                 # Adiciona os grupos ao DataSet\n",
    "baseCol3.tail(8)"
   ]
  },
  {
   "cell_type": "markdown",
   "metadata": {},
   "source": [
    "Podemos ver no fragmento do dataset acima que foi adicionado uma categoria de cluster para cada um dos pontos relacionados. Os outliers, ou seja, áreas sem cobertura que não atenderam aos requisitos configurados nos parâmetros, foram marcados como grupo -1."
   ]
  },
  {
   "cell_type": "markdown",
   "metadata": {},
   "source": [
    "#### Plotando as falhas classificadas\n",
    "Para visualizar como ficou a classificação do algoritmo, vamos plotar novamente o gráfico tematizando as falhas com a cor de cada cluster. Para isso, vamos criar um dataset no formato do original, apenas substituindo os valores de cobertura pelo valor de classificação dos clusters."
   ]
  },
  {
   "cell_type": "code",
   "execution_count": 8,
   "metadata": {},
   "outputs": [],
   "source": [
    "# Copia o mapa de predição\n",
    "predicaoGrp = predicao.copy()\n",
    "\n",
    "# Limpa os valores\n",
    "predicaoGrp.replace(1, np.nan, inplace=True)\n",
    "\n",
    "# Insere os grupos\n",
    "linhas = np.arange(len(baseCol3.index))\n",
    "for i in linhas:\n",
    "    predicaoGrp.at[baseCol3.at[i, 'Latitude'], baseCol3.at[i, 'Longitude']] = baseCol3.at[i, 'Cluster']"
   ]
  },
  {
   "cell_type": "code",
   "execution_count": 9,
   "metadata": {},
   "outputs": [
    {
     "data": {
      "image/png": "[encoded data removed]",
      "text/plain": [
       "<Figure size 1440x1440 with 2 Axes>"
      ]
     },
     "metadata": {},
     "output_type": "display_data"
    }
   ],
   "source": [
    "# Plotando o gráfico\n",
    "plt.figure(figsize=(20, 20))\n",
    "plt.imshow(predicaoGrp, cmap=plt.cm.get_cmap('Set1', 7))\n",
    "plt.title(\"Simulação de área com falhas de cobertura\", fontsize=20)\n",
    "plt.xlabel(\"Latitude\", fontsize=15)\n",
    "plt.ylabel(\"Longitude\", fontsize=15)\n",
    "plt.colorbar(fraction=0.017, pad=0.005);"
   ]
  },
  {
   "cell_type": "markdown",
   "metadata": {},
   "source": [
    "A plotagem acima é apenas para mostrar como o algoritmo classificou cada uma das falhas. Podemos verificar também as falhas de cobertura consideradas como outliers, marcadas como grupo -1, plotadas em vermelho."
   ]
  },
  {
   "cell_type": "markdown",
   "metadata": {},
   "source": [
    "### Definindo áreas prioritárias\n",
    "A partir de cada área com a falha devidamente classificada, podemos rankear como prioridade a área de maior tamanho:"
   ]
  },
  {
   "cell_type": "code",
   "execution_count": 10,
   "metadata": {},
   "outputs": [
    {
     "data": {
      "text/html": [
       "<div>\n",
       "<style scoped>\n",
       "    .dataframe tbody tr th:only-of-type {\n",
       "        vertical-align: middle;\n",
       "    }\n",
       "\n",
       "    .dataframe tbody tr th {\n",
       "        vertical-align: top;\n",
       "    }\n",
       "\n",
       "    .dataframe thead th {\n",
       "        text-align: right;\n",
       "    }\n",
       "</style>\n",
       "<table border=\"1\" class=\"dataframe\">\n",
       "  <thead>\n",
       "    <tr style=\"text-align: right;\">\n",
       "      <th></th>\n",
       "      <th>Tamanho Cluster</th>\n",
       "    </tr>\n",
       "    <tr>\n",
       "      <th>Cluster</th>\n",
       "      <th></th>\n",
       "    </tr>\n",
       "  </thead>\n",
       "  <tbody>\n",
       "    <tr>\n",
       "      <th>1</th>\n",
       "      <td>100</td>\n",
       "    </tr>\n",
       "    <tr>\n",
       "      <th>0</th>\n",
       "      <td>90</td>\n",
       "    </tr>\n",
       "    <tr>\n",
       "      <th>4</th>\n",
       "      <td>62</td>\n",
       "    </tr>\n",
       "    <tr>\n",
       "      <th>5</th>\n",
       "      <td>49</td>\n",
       "    </tr>\n",
       "    <tr>\n",
       "      <th>-1</th>\n",
       "      <td>41</td>\n",
       "    </tr>\n",
       "    <tr>\n",
       "      <th>2</th>\n",
       "      <td>36</td>\n",
       "    </tr>\n",
       "    <tr>\n",
       "      <th>3</th>\n",
       "      <td>10</td>\n",
       "    </tr>\n",
       "  </tbody>\n",
       "</table>\n",
       "</div>"
      ],
      "text/plain": [
       "         Tamanho Cluster\n",
       "Cluster                 \n",
       " 1                   100\n",
       " 0                    90\n",
       " 4                    62\n",
       " 5                    49\n",
       "-1                    41\n",
       " 2                    36\n",
       " 3                    10"
      ]
     },
     "execution_count": 10,
     "metadata": {},
     "output_type": "execute_result"
    }
   ],
   "source": [
    "# Construindo um ranking por tamanho de falha de cobertura\n",
    "ranking = baseCol3.groupby('Cluster').agg({'Cluster': 'count'}).rename(columns={'Cluster': 'Tamanho Cluster'})\n",
    "ranking.sort_values('Tamanho Cluster', ascending=False)"
   ]
  },
  {
   "cell_type": "markdown",
   "metadata": {},
   "source": [
    "Podemos ver no ranking acima que a maior área com falha de cobertura é a 1, plotada em roxo no gráfico anterior.\n",
    "\n",
    "O tamanho da área pode ser uma boa métrica de prioridade, porém uma análise mais precisa poderia ser feita se cruzássemos com outras bases. Poderíamos, por exemplo, correlacioná-la com outras camadas de informação como demografia, densidade urbana, dados socioeconômicos, importância estratégica, indicadores de qualidade e desempenho, etc.\n",
    "<img src=\"image/grid_overlay.gif\">"
   ]
  },
  {
   "cell_type": "markdown",
   "metadata": {},
   "source": [
    "##### Utilizando um layer de prioridade\n",
    "Como simplificação vamos separar o mapa em 4 níveis de importância e correlacioná-lo com o mapa de falha de cobertura para finalmente classificarmos as prioridades. Os níveis irão de 1(baixa prioridade) à 4(alta prioridade)."
   ]
  },
  {
   "cell_type": "markdown",
   "metadata": {},
   "source": [
    "<img src=\"image/priority.png\">"
   ]
  },
  {
   "cell_type": "code",
   "execution_count": 11,
   "metadata": {},
   "outputs": [],
   "source": [
    "# Carregando a dataset de prioridades\n",
    "xlsx = pd.read_excel(\"base\\Pred_fict_prority.xlsx\")\n",
    "priority = pd.DataFrame(xlsx)"
   ]
  },
  {
   "cell_type": "code",
   "execution_count": 12,
   "metadata": {},
   "outputs": [],
   "source": [
    "# Transformando o dataset de prioridades em colunas lat, long e valor\n",
    "temp = []\n",
    "baseCol = []\n",
    "\n",
    "# Transforma o dataset\n",
    "linha = priority.index\n",
    "coluna = priority.columns\n",
    "\n",
    "for l in linha:\n",
    "    for c in coluna:\n",
    "        temp = [l, c, priority.at[l, c]]\n",
    "        baseCol.append(temp)\n",
    "\n",
    "priority1 = pd.DataFrame(baseCol, columns=['Latitude', 'Longitude', 'Prioridade'])\n",
    "\n",
    "# Redefinindo o index da base de prioridades para lat e long\n",
    "priority2 = priority1.set_index(['Latitude', 'Longitude'])"
   ]
  },
  {
   "cell_type": "code",
   "execution_count": 13,
   "metadata": {},
   "outputs": [],
   "source": [
    "# Redefinindo o index da base de cobertura para lat e long\n",
    "baseCol4 = baseCol3.set_index(['Latitude', 'Longitude'])"
   ]
  },
  {
   "cell_type": "code",
   "execution_count": 14,
   "metadata": {},
   "outputs": [
    {
     "data": {
      "text/html": [
       "<div>\n",
       "<style scoped>\n",
       "    .dataframe tbody tr th:only-of-type {\n",
       "        vertical-align: middle;\n",
       "    }\n",
       "\n",
       "    .dataframe tbody tr th {\n",
       "        vertical-align: top;\n",
       "    }\n",
       "\n",
       "    .dataframe thead th {\n",
       "        text-align: right;\n",
       "    }\n",
       "</style>\n",
       "<table border=\"1\" class=\"dataframe\">\n",
       "  <thead>\n",
       "    <tr style=\"text-align: right;\">\n",
       "      <th></th>\n",
       "      <th></th>\n",
       "      <th>Cobertura</th>\n",
       "      <th>Cluster</th>\n",
       "      <th>Prioridade</th>\n",
       "    </tr>\n",
       "    <tr>\n",
       "      <th>Latitude</th>\n",
       "      <th>Longitude</th>\n",
       "      <th></th>\n",
       "      <th></th>\n",
       "      <th></th>\n",
       "    </tr>\n",
       "  </thead>\n",
       "  <tbody>\n",
       "    <tr>\n",
       "      <th rowspan=\"5\" valign=\"top\">1</th>\n",
       "      <th>1</th>\n",
       "      <td>NaN</td>\n",
       "      <td>-1.0</td>\n",
       "      <td>1.0</td>\n",
       "    </tr>\n",
       "    <tr>\n",
       "      <th>2</th>\n",
       "      <td>NaN</td>\n",
       "      <td>-1.0</td>\n",
       "      <td>1.0</td>\n",
       "    </tr>\n",
       "    <tr>\n",
       "      <th>3</th>\n",
       "      <td>NaN</td>\n",
       "      <td>-1.0</td>\n",
       "      <td>1.0</td>\n",
       "    </tr>\n",
       "    <tr>\n",
       "      <th>4</th>\n",
       "      <td>NaN</td>\n",
       "      <td>NaN</td>\n",
       "      <td>1.0</td>\n",
       "    </tr>\n",
       "    <tr>\n",
       "      <th>5</th>\n",
       "      <td>NaN</td>\n",
       "      <td>NaN</td>\n",
       "      <td>1.0</td>\n",
       "    </tr>\n",
       "  </tbody>\n",
       "</table>\n",
       "</div>"
      ],
      "text/plain": [
       "                    Cobertura  Cluster  Prioridade\n",
       "Latitude Longitude                                \n",
       "1        1                NaN     -1.0         1.0\n",
       "         2                NaN     -1.0         1.0\n",
       "         3                NaN     -1.0         1.0\n",
       "         4                NaN      NaN         1.0\n",
       "         5                NaN      NaN         1.0"
      ]
     },
     "execution_count": 14,
     "metadata": {},
     "output_type": "execute_result"
    }
   ],
   "source": [
    "# Concatenando a base de cobertura com a base de prioridades\n",
    "baseFinal = pd.concat([baseCol4, priority2], axis=1)\n",
    "baseFinal.head()"
   ]
  },
  {
   "cell_type": "code",
   "execution_count": 15,
   "metadata": {},
   "outputs": [
    {
     "data": {
      "text/html": [
       "<div>\n",
       "<style scoped>\n",
       "    .dataframe tbody tr th:only-of-type {\n",
       "        vertical-align: middle;\n",
       "    }\n",
       "\n",
       "    .dataframe tbody tr th {\n",
       "        vertical-align: top;\n",
       "    }\n",
       "\n",
       "    .dataframe thead th {\n",
       "        text-align: right;\n",
       "    }\n",
       "</style>\n",
       "<table border=\"1\" class=\"dataframe\">\n",
       "  <thead>\n",
       "    <tr style=\"text-align: right;\">\n",
       "      <th></th>\n",
       "      <th>Tamanho Cluster</th>\n",
       "      <th>Prioridade Cluster</th>\n",
       "    </tr>\n",
       "    <tr>\n",
       "      <th>Cluster</th>\n",
       "      <th></th>\n",
       "      <th></th>\n",
       "    </tr>\n",
       "  </thead>\n",
       "  <tbody>\n",
       "    <tr>\n",
       "      <th>4</th>\n",
       "      <td>62</td>\n",
       "      <td>248.0</td>\n",
       "    </tr>\n",
       "    <tr>\n",
       "      <th>5</th>\n",
       "      <td>49</td>\n",
       "      <td>147.0</td>\n",
       "    </tr>\n",
       "    <tr>\n",
       "      <th>0</th>\n",
       "      <td>90</td>\n",
       "      <td>129.0</td>\n",
       "    </tr>\n",
       "    <tr>\n",
       "      <th>1</th>\n",
       "      <td>100</td>\n",
       "      <td>100.0</td>\n",
       "    </tr>\n",
       "    <tr>\n",
       "      <th>-1</th>\n",
       "      <td>41</td>\n",
       "      <td>74.0</td>\n",
       "    </tr>\n",
       "    <tr>\n",
       "      <th>2</th>\n",
       "      <td>36</td>\n",
       "      <td>72.0</td>\n",
       "    </tr>\n",
       "    <tr>\n",
       "      <th>3</th>\n",
       "      <td>10</td>\n",
       "      <td>40.0</td>\n",
       "    </tr>\n",
       "  </tbody>\n",
       "</table>\n",
       "</div>"
      ],
      "text/plain": [
       "         Tamanho Cluster  Prioridade Cluster\n",
       "Cluster                                     \n",
       " 4                    62               248.0\n",
       " 5                    49               147.0\n",
       " 0                    90               129.0\n",
       " 1                   100               100.0\n",
       "-1                    41                74.0\n",
       " 2                    36                72.0\n",
       " 3                    10                40.0"
      ]
     },
     "execution_count": 15,
     "metadata": {},
     "output_type": "execute_result"
    }
   ],
   "source": [
    "# Construindo um ranking por grau de importância do cluster\n",
    "ranking['Prioridade Cluster'] = baseFinal.groupby('Cluster')['Prioridade'].sum().nlargest(10)\n",
    "ranking.sort_values('Prioridade Cluster', ascending=False)"
   ]
  },
  {
   "cell_type": "markdown",
   "metadata": {},
   "source": [
    "Apesar de não possuir a maior área sem cobertura, o grupo 4 foi rankeado com maior prioridade, enquanto que o grupo 1, de maior tamanho, ficou em quarto lugar. Levando esse resultado à um exemplo prático, caso fosse solicitada uma priorização de investimento na região, mesmo sem conhecê-la muito bem, o engenheiro de RF poderia sugerir o grupo 4 fundamentado pela análise do algoritmo."
   ]
  },
  {
   "cell_type": "markdown",
   "metadata": {},
   "source": [
    "### Conclusão\n",
    "Como dito no início do texto, o intuito desse artigo foi apresentar um método alternativo à inspeção visual de análise de falha de cobertura. O algoritmo DBSCAN se mostrou bastante eficaz à solução proposta. A seguir, os benefícios que pudemos observar:  \n",
    "**Velocidade de análise** - Executar uma análise de cobertura de maneira visual pode ser fácil quando feita em um bairro ou uma cidade pequena, porém pode se tornar inviável se a área for muito grande. A automatização dessa atividade pode ser de grande valia.    \n",
    "**Priorização através de dados mensuráveis** – Numa análise visual pode-se deparar com várias regiões com problemas de cobertura, tornando a priorização uma tarefa complexa. Utilizando o DBSCAN na clusterização das áreas sem cobertura, pudemos criar um ranking utilizando o tamanho da área e até mesmo ponderá-las com outras informações, diminuindo assim a subjetividade da análise.  \n",
    "**Identificação de pequenas áreas sem cobertura (outliers)** – Na análise visual, pequenas áreas sem cobertura podem passar despercebidas, porém como o DBSCAN categoriza elementos que não atendam às premissas imputadas como outliers, poderíamos montar uma lista dessas áreas e atuar com soluções diferenciadas como utilização de small-cells ou até mesmo uma simples otimização dos sites existentes. \n",
    "\n",
    "Apesar de termos utilizado uma base fictícia, poderíamos ter utilizado uma base real e inclusive plotá-la em um mapa. Há alguns exemplos de como fazer isso na seção de Fontes e Referências(8)(9)."
   ]
  },
  {
   "cell_type": "markdown",
   "metadata": {},
   "source": [
    "### Fontes e referências:  \n",
    "#### Telecomunicações:  \n",
    "(1)http://www.teleco.com.br/qsmc_reclamacoes.asp  \n",
    "(2)https://www.siradel.com/software/connectivity/volcano-software/  \n",
    "(3)http://blog.industrialnetworking.com/2014/04/making-sense-of-signal-strengthsignal.html  \n",
    "(4)https://en.wikipedia.org/wiki/Received_signal_strength_indication  \n",
    "(5)https://www.tim.com.br/sp/para-voce/cobertura-e-roaming/mapa-de-cobertura  \n",
    "\n",
    "#### DBSCAN:  \n",
    "(6)https://github.com/rdemarqui/Data-Science-Basico/blob/master/Python/05%20Scikit-learn/06.03.01%20DBSCAN%20-%20Introdu%C3%A7%C3%A3o.ipynb  \n",
    "(7)https://scikit-learn.org/stable/modules/generated/sklearn.cluster.DBSCAN.html  \n",
    "(8)http://qingkaikong.blogspot.com/2016/08/clustering-with-dbscan.html  \n",
    "(9)https://geoffboeing.com/2014/08/clustering-to-reduce-spatial-data-set-size/  "
   ]
  }
 ],
 "metadata": {
  "kernelspec": {
   "display_name": "Python 3",
   "language": "python",
   "name": "python3"
  },
  "language_info": {
   "codemirror_mode": {
    "name": "ipython",
    "version": 3
   },
   "file_extension": ".py",
   "mimetype": "text/x-python",
   "name": "python",
   "nbconvert_exporter": "python",
   "pygments_lexer": "ipython3",
   "version": "3.6.5"
  }
 },
 "nbformat": 4,
 "nbformat_minor": 2
}
