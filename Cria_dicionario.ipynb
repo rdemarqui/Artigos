{
  "nbformat": 4,
  "nbformat_minor": 0,
  "metadata": {
    "colab": {
      "name": "Cria dicionario.ipynb",
      "provenance": [],
      "authorship_tag": "ABX9TyOtbkrQA/e3wigopyelrCG4",
      "include_colab_link": true
    },
    "kernelspec": {
      "name": "python3",
      "display_name": "Python 3"
    }
  },
  "cells": [
    {
      "cell_type": "markdown",
      "metadata": {
        "id": "view-in-github",
        "colab_type": "text"
      },
      "source": [
        "<a href=\"https://colab.research.google.com/github/rdemarqui/Artigos/blob/master/Cria_dicionario.ipynb\" target=\"_parent\"><img src=\"https://colab.research.google.com/assets/colab-badge.svg\" alt=\"Open In Colab\"/></a>"
      ]
    },
    {
      "cell_type": "code",
      "metadata": {
        "id": "IRL7q3_93cqx",
        "colab_type": "code",
        "outputId": "14da579a-7508-46ea-85ff-0e2d3b27447f",
        "colab": {
          "base_uri": "https://localhost:8080/",
          "height": 34
        }
      },
      "source": [
        "texto_Original = 'a b a c d b e d'\n",
        "texto_Original"
      ],
      "execution_count": 1,
      "outputs": [
        {
          "output_type": "execute_result",
          "data": {
            "text/plain": [
              "'a b a c d b e d'"
            ]
          },
          "metadata": {
            "tags": []
          },
          "execution_count": 1
        }
      ]
    },
    {
      "cell_type": "code",
      "metadata": {
        "id": "F6iBuGCz3xJK",
        "colab_type": "code",
        "outputId": "c2a98344-2469-44ff-9912-88dfec081d56",
        "colab": {
          "base_uri": "https://localhost:8080/",
          "height": 34
        }
      },
      "source": [
        "texto_Splitado = texto_Original.split()\n",
        "texto_Splitado"
      ],
      "execution_count": 3,
      "outputs": [
        {
          "output_type": "execute_result",
          "data": {
            "text/plain": [
              "['a', 'b', 'a', 'c', 'd', 'b', 'e', 'd']"
            ]
          },
          "metadata": {
            "tags": []
          },
          "execution_count": 3
        }
      ]
    },
    {
      "cell_type": "code",
      "metadata": {
        "id": "AjH4R7r_37kO",
        "colab_type": "code",
        "colab": {}
      },
      "source": [
        "def Cria_pares(texto_Splitado):\n",
        "  for item in range(len(texto_Splitado) - 1):\n",
        "    yield (texto_Splitado[item], texto_Splitado[item +1])"
      ],
      "execution_count": 0,
      "outputs": []
    },
    {
      "cell_type": "code",
      "metadata": {
        "id": "TQNJk6yC5Eew",
        "colab_type": "code",
        "outputId": "92a97ddf-a0d7-4794-f3db-a4ac33da7082",
        "colab": {
          "base_uri": "https://localhost:8080/",
          "height": 34
        }
      },
      "source": [
        "pares = Cria_pares(texto_Splitado)\n",
        "pares"
      ],
      "execution_count": 5,
      "outputs": [
        {
          "output_type": "execute_result",
          "data": {
            "text/plain": [
              "<generator object Cria_pares at 0x7f9c43ef8e08>"
            ]
          },
          "metadata": {
            "tags": []
          },
          "execution_count": 5
        }
      ]
    },
    {
      "cell_type": "code",
      "metadata": {
        "id": "hoyBtFFo4asF",
        "colab_type": "code",
        "colab": {}
      },
      "source": [
        "dicFinal = {}\n",
        "for primeira, segunda in pares:\n",
        "  if primeira in dicFinal.keys():\n",
        "    dicFinal[primeira].append(segunda)\n",
        "  else:\n",
        "    dicFinal[primeira] = [segunda]"
      ],
      "execution_count": 0,
      "outputs": []
    },
    {
      "cell_type": "code",
      "metadata": {
        "id": "-YzynJg37BjJ",
        "colab_type": "code",
        "outputId": "a90f7768-ea57-4414-f507-2bea550f158d",
        "colab": {
          "base_uri": "https://localhost:8080/",
          "height": 34
        }
      },
      "source": [
        "dicFinal"
      ],
      "execution_count": 7,
      "outputs": [
        {
          "output_type": "execute_result",
          "data": {
            "text/plain": [
              "{'a': ['b', 'c'], 'b': ['a', 'e'], 'c': ['d'], 'd': ['b'], 'e': ['d']}"
            ]
          },
          "metadata": {
            "tags": []
          },
          "execution_count": 7
        }
      ]
    },
    {
      "cell_type": "code",
      "metadata": {
        "id": "pHr289Gc4wc1",
        "colab_type": "code",
        "colab": {}
      },
      "source": [
        ""
      ],
      "execution_count": 0,
      "outputs": []
    }
  ]
}